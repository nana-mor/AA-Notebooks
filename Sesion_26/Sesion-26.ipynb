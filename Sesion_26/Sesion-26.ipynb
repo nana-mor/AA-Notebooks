{
 "cells": [
  {
   "cell_type": "markdown",
   "id": "18b76a9c-7fb4-43a7-ac27-bb38ad2051fe",
   "metadata": {},
   "source": [
    "## Gráficas dirigidas: Orden topológico y componentes fuertemente conexas"
   ]
  },
  {
   "cell_type": "markdown",
   "id": "ddd4d8d6-610b-4eb9-b458-f2c50c055881",
   "metadata": {},
   "source": [
    "### Orden topológico"
   ]
  },
  {
   "cell_type": "markdown",
   "id": "87a8f81d-5ac2-46fe-9b00-59a100f5bca6",
   "metadata": {},
   "source": [
    "En la sesión pasada hablamos un poco de gráficas y algoritmos que te dan una *precedencia* entre nodos. Podemos entender esta idea de predecesores como un cierto orden que sigue la gráfica, y bajo ciertas condiciones puede ser incluso considerado un orden topológico. El **orden topológico** en una gráfica $G$ se refiere a un ordenamiento lineal de sus vértices, tal que si hay una arista $(u,v) \\in G.E$, entonces $u$ aparece antes que $v$ en dicho orden. Podemos notar, entonces, que el orden topológico sólo es aplicable para gráficas dirigidas y acíclicas. "
   ]
  },
  {
   "cell_type": "markdown",
   "id": "2e981905-3522-4cf2-95bb-43c20d178106",
   "metadata": {},
   "source": [
    "La propiedad de *predecesores* obtenida a través de **DFS**, por su naturaleza, puede darnos un ordenamiento topológico si la gráfica cumple las condiciones pedidas. El siguiente algoritmo hace justamente eso, devolviendo una lista que sigue dicho orden:"
   ]
  },
  {
   "cell_type": "markdown",
   "id": "fffc0f46-0ded-4063-9d18-6a1cf15bee78",
   "metadata": {},
   "source": [
    "#### **TOPOLOGICAL-SORT(G)**\n",
    "1. Llamar a **DFS($G$)** para obtener los tiempos finales $v.f$ de cada vértice $v$.\n",
    "2. Conforme cada vértice termine, agregarlo al frente de una lista ligada.\n",
    "3. **Regresar** la lista ligada."
   ]
  },
  {
   "cell_type": "markdown",
   "id": "728d45d2-72d9-404f-989b-dc8ccfdc7f2e",
   "metadata": {},
   "source": [
    "Como **DFS** toma $\\Theta(V+E)$ y la inserción de los $|V|$ vértices toma $O(1)$, el algoritmo **TOPOLOGICAL-SORT($G$)** toma $\\Theta(V+E)$."
   ]
  },
  {
   "cell_type": "markdown",
   "id": "34f06ea4-dc94-418f-a8d2-7f02193a640b",
   "metadata": {},
   "source": [
    "La prueba de que el algoritmo es correcto requiere un poco más de contexto teórico, sobre todo con respecto a la clasificación de aristas, así que no se incluirá en este apunte pero puede consultarse en el libro."
   ]
  },
  {
   "attachments": {},
   "cell_type": "markdown",
   "id": "9240b8af-ac17-4c5d-9a25-9f1a600954cd",
   "metadata": {},
   "source": [
    "<img src=\"Top-Sort-Cormen.png\">"
   ]
  },
  {
   "cell_type": "markdown",
   "id": "0be8d196-7cd6-4319-a68c-e7c3160e9d8c",
   "metadata": {},
   "source": [
    "*Ejemplo de ordenamiento topológico para la vestimenta, encontrado en el libro de Cormen.*"
   ]
  },
  {
   "cell_type": "markdown",
   "id": "bb6ccbff-689d-4335-af6c-da96817d789f",
   "metadata": {},
   "source": [
    "### Componentes fuertemente conexas"
   ]
  },
  {
   "cell_type": "markdown",
   "id": "94881345-9b6e-4df1-af37-b8537841ac19",
   "metadata": {},
   "source": [
    "Primero recordemos (o veamos) la definición de componentes fuertemente conexas, así como de una gráfica asociada que nos ayudará para encontrar dichas componentes:"
   ]
  },
  {
   "cell_type": "markdown",
   "id": "cf841574-8a6d-4254-b223-198cff0c3914",
   "metadata": {},
   "source": [
    "Una **componente fuertemente conexa** de una gráfica dirigida $G=(V,E)$ es un conjunto maximal de vértices $C \\subseteq V$ tal que para todo par de vértices $u, v \\in C$, tanto $u \\leadsto v$ como $v \\leadsto u$. $u \\leadsto v$ se refiere a que hay un $u\\,v$ camino en el conjunto de aristas de $G$."
   ]
  },
  {
   "cell_type": "markdown",
   "id": "5283a988-184b-45d9-843f-013b95db8e6d",
   "metadata": {},
   "source": [
    "Dada una gráfica dirigida $G=(V,E)$, se define a la gráfica transpuesta de $G$ como $G^T=(V,E^T)$. A su vez, $E^T$ se define como $E^T= \\lbrace (u,v):(v,u)\\in E \\rbrace$. Podemos entender a $G^T$ como a la misma $G$ con las aristas en la dirección opuesta. El proceso para obtener la gráfica $G^T$ a partir de una gráfica representada como una lista de adyacencia es $\\Theta(V+E)$."
   ]
  },
  {
   "cell_type": "markdown",
   "id": "c5b7781a-4791-4303-977e-35addfa960ec",
   "metadata": {},
   "source": [
    "Las gráficas $G$ y $G^T$ tienen las mismas componentes fuertemente conexas, $u$ y $v$ son mútuamente alcanzables en $G$ si y sólo si son mútuamente alcanzables en $G^T$, lo que nos permite usar el siguiente algoritmo para encontrarlas a partir de **DFS**. Notemos que su tiempo de ejecución es de $\\Theta(V+E)$ heredado directamente de los dos procesos que lo componen:"
   ]
  },
  {
   "cell_type": "markdown",
   "id": "1359328b-b52b-4577-b046-b6a58a6fef14",
   "metadata": {},
   "source": [
    "#### **STRONGLY-CONNECTED-COMPONENTS($G$)**\n",
    "1. Llamar a **DFS($G$)** para obtener los tiempos $u.f$ de cada vértice $u$\n",
    "2. Crear $G^T$\n",
    "3. Llamar a **DFS($G$)** pero en los ciclos principales considerar los vértices en orden decendente con respecto a $u.f$\n",
    "4. Dar como salida los vértices de cada árbol del *depth first forest* creado en la línea 3 como una componente fuertemente conexa."
   ]
  },
  {
   "cell_type": "markdown",
   "id": "f2386d11-20ed-4c40-ac77-e383ddf8fcf4",
   "metadata": {},
   "source": [
    "De nuevo, la demostración se encuentra en el libro y usa algunos elementos no incluidos aquí, pero puede resultar muy interesante leerla y además nos permite considerar (tal vez incluso plantear) la idea de un ordenamiento topológico de componentes fuertemente conexas."
   ]
  },
  {
   "cell_type": "markdown",
   "id": "6a8a4fd6-b635-4c57-aa89-6282ce04f987",
   "metadata": {},
   "source": [
    "<img src=\"scc-initial-graph.png\">"
   ]
  },
  {
   "cell_type": "markdown",
   "id": "2fa04bcf-2811-4c03-9871-a9e8e1fe3524",
   "metadata": {},
   "source": [
    "<img src=\"scc-final.png\">"
   ]
  },
  {
   "cell_type": "markdown",
   "id": "7da1ada3-f295-4818-b116-7cbed79e7304",
   "metadata": {},
   "source": [
    "*Ejemplo de lo que son las componentes fuertemente conexas. Encontrado en internet.*"
   ]
  }
 ],
 "metadata": {
  "kernelspec": {
   "display_name": "Julia 1.11.1",
   "language": "julia",
   "name": "julia-1.11"
  },
  "language_info": {
   "file_extension": ".jl",
   "mimetype": "application/julia",
   "name": "julia",
   "version": "1.11.1"
  }
 },
 "nbformat": 4,
 "nbformat_minor": 5
}
