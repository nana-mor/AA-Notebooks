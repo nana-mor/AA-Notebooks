{
 "cells": [
  {
   "cell_type": "markdown",
   "id": "e2662b8c-2f34-422c-8c4b-2bff67c63b84",
   "metadata": {},
   "source": [
    "# Problema de programacion dinamica: la caña\n",
    "by: Perez Lopez Zaira Cecilia"
   ]
  },
  {
   "cell_type": "markdown",
   "id": "ac8b79d1-27cc-4497-b359-a0944322fa49",
   "metadata": {},
   "source": [
    "## Rod Cutting\n",
    "\n",
    "Imaginemos que tenemos una caña de longitud $n$, se puede vender en diferentes tamaños y cada uno de esllos tiene un precio especifico. El objetivo es determinar una forma optima de maximizar ingresos totales.\n",
    "\n",
    "#### Analisis\n",
    "\n",
    "1. La caña se puede cortar en diferentes longitudes, cada corter genera dos partes: venta y para cortar o para ser vendida.\n",
    "2. Se tiene una tabla de precios $p$que indica la ganancia por vender una pieza con longitud especifica.\n",
    "3. El **objetivo** es maximizar ganancias buscando una forma optima de cortas la caña y derterminar el ingreso maximo que se puede obtener.\n",
    "\n",
    "\n",
    "#### Ejemplo\n",
    "| Longitud (i)               | Precio ($p[i]$)             |\n",
    "|----------------------------|-----------------------------|\n",
    "| 1                          | 1                           | \n",
    "| 2                          | 5                           | \n",
    "| 3                          | 8                           | \n",
    "| 4                          | 9                           | \n",
    "| 5                          | 10                          | \n",
    "| 6                          | 17                          | \n",
    "| 7                          | 17                          | \n",
    "| 8                          | 20                          |\n",
    "\n",
    "Se tienen dos opciones:\n",
    "1. Vender la caña completa (longitud 8)\n",
    "2. Cortar la caña en dos partes\n",
    "Claramente, al cortan la caña en dos longitudes genera mas ganancias que venderla completa. ¿Cual sera la mejor particion?"
   ]
  },
  {
   "cell_type": "markdown",
   "id": "77f91380-9609-4763-9a47-9c01a6c80cda",
   "metadata": {},
   "source": [
    "#### Subproblema\n",
    "\n",
    "- Para poder calcular la ganancia maxima para una caña de longitus $n=8$, primero debo saber la ganancia maxima para cañas de longitudes menores $n=1,2,...,7$\n",
    "\n",
    "#### Analisis\n",
    "\n",
    "- Para una caña de longitud $j$, podemos cortarla en dos partes:\n",
    "   - Una pieza de longitud $i$ con precio $p[i]$\n",
    "   - La longitud restante $j-i$\n",
    "- Por lo anterior podemos deducir que:\n",
    "   $$r[j]=max_1\\leq i \\leq j (p[i]+r[j-1])$$\n",
    "  donde\n",
    "  - $r[j]$ la definiremos como la ganancia maxima para una caña con longitud $j$\n",
    "  - $p[i]$ precio de una pieza de longitud $i$\n",
    "  - $r[j-i]$ ganancia maxima de la longitud restante\n",
    "- Nuestro caso base es $r[0]$, caña con longitud 0, sin cortes ni posibles ingresos.\n",
    "  "
   ]
  },
  {
   "cell_type": "markdown",
   "id": "216a80d1-6c74-45f4-b0df-dedf2d40dfcb",
   "metadata": {},
   "source": [
    "#### Algoritmo\n",
    "1. Arreglo $r$ donde $r[j]$ almacena el ingreso maximo para cada caña. Inicializando $r[j]=0$\n",
    "2. Almacenar posiciones optimas de los cortes $s$. Se reconstruyen longitudess de cortes optimos y sus respectivas ganancias\n",
    "3. Iteracion entre longitudes $j=1, 2,..., n$\n",
    "4. Para cada $j$ se prueban todas las posibles longitudes de corte $i$, actualizando $r[j]$ usando la deduccion anterior."
   ]
  },
  {
   "cell_type": "code",
   "execution_count": null,
   "id": "4bb205db-b104-442a-86ac-4d12d64f9f52",
   "metadata": {},
   "outputs": [],
   "source": [
    "using OffsetArrays\n",
    "\n",
    "function extended_bottom_up_cut_rod(p::Vector{Int}, n::Int)\n",
    "    r = OffsetVector([typemin(Int) for i in 1:n+1], 0:n)\n",
    "    s = OffsetVector([typemin(Int) for i in 1:n+1], 0:n)\n",
    "    r[0] = 0\n",
    "    for j in 1:n\n",
    "        q = typemin(Int)\n",
    "        for i in 1:j\n",
    "            if q < p[i] + r[j-i]\n",
    "                q = p[i] + r[j-i]\n",
    "                s[j] = i\n",
    "            end\n",
    "        end\n",
    "        r[j] = q\n",
    "    end\n",
    "    return (r, s)\n",
    "end\n",
    "\n",
    "function print_cut_rod_solution(p::Vector{Int}, n::Int)\n",
    "    r, s = extended_bottom_up_cut_rod(p, n)\n",
    "    while n > 0\n",
    "        print(s[n], ':', p[s[n]], '\\n')\n",
    "        n = n - s[n]\n",
    "    end\n",
    "end\n",
    "\n",
    "print_cut_rod_solution([1, 5, 8, 9, 10, 17, 17, 20, 24, 30], 8)"
   ]
  },
  {
   "cell_type": "markdown",
   "id": "97833675-473a-42ab-9ac5-b9f6ffeccdef",
   "metadata": {},
   "source": [
    "#### Complejidad\n",
    "\n",
    "- El tiempo de ejecucion esta determinado por los bucles anidados:\n",
    "    - iteracion desde $j=1$ jasta $j=n$ ----- $O(n)$\n",
    "    - para cada $j$ se recorren las posibles longitudes $i=1 hasta j$ ---- $O(j)$\n",
    "  entonces: $$T(n)= \\sum_{j=1}^{n} j=\\frac{n \\cdot (n+1)}{2}=O(n^2)$$"
   ]
  },
  {
   "cell_type": "markdown",
   "id": "ba51f118-85d7-489d-afd4-2eb77f4a63be",
   "metadata": {},
   "source": [
    "#### Bibliografia\n",
    "\n",
    "[1] Kleinberg, J. y Tardos, É. *Algorithm design*. Pearson Education. 2005.\n",
    "\n",
    "[2] Miller, B. y Ranum D. *Problem Solving with Algorithms and Data Structures*. 2013\n",
    "\n",
    "[3] Cormen T. *et al*. *Introduction to Algorithms*. Third Edition. London: The MIT Press, 2009.\n",
    "\n",
    "[4] Erickson J. *Algorithms*. 1st paperback edition. 2019\n",
    "\n",
    "[5] Díaz, M. *Matroides y códigos: la identidad de Macwilliams*. BUAP. 2021"
   ]
  },
  {
   "cell_type": "code",
   "execution_count": null,
   "id": "76e1777f-f80e-4f43-9e51-56a21e285e93",
   "metadata": {},
   "outputs": [],
   "source": []
  }
 ],
 "metadata": {
  "kernelspec": {
   "display_name": "",
   "name": ""
  },
  "language_info": {
   "name": ""
  }
 },
 "nbformat": 4,
 "nbformat_minor": 5
}
