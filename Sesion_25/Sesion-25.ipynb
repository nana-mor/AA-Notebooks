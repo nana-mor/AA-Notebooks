{
 "cells": [
  {
   "cell_type": "markdown",
   "id": "8a431cf3-4b29-48fc-88b2-139eb43e8175",
   "metadata": {},
   "source": [
    "## Buscando gráficas: BFS y DFS"
   ]
  },
  {
   "cell_type": "markdown",
   "id": "27ab4411-ee7c-4712-8efa-7465e1870eb3",
   "metadata": {},
   "source": [
    "Cuando estamos analizando una gráfica, una de las primeras cosas que puede hacerse es buscarla, es decir, seguir sus aristas sistemáticamente hasta tocar todos sus vértices. En esta sección exploramos dos algoritmos que realizan esta búsqueda: El **Breadth First Search** o **BFS**, y el **Depth First Search** o **DFS**."
   ]
  },
  {
   "cell_type": "markdown",
   "id": "337c3183-4e34-459a-b875-1fe63959a4b1",
   "metadata": {},
   "source": [
    "Cabe mencionar que para la implementación de estos algoritmos estamos considerando la interpretación de las gráficas como un arreglo de listas, donde cada vértice representa un elemento del arreglo y su lista son los vecinos a los que llega."
   ]
  },
  {
   "cell_type": "markdown",
   "id": "97cc2b09-dd73-48df-8cb4-c0c4f09ec494",
   "metadata": {},
   "source": [
    "### Breadth First Search"
   ]
  },
  {
   "cell_type": "markdown",
   "id": "baa1c6ed-91c8-4bf7-bab6-55b4b4241c4f",
   "metadata": {},
   "source": [
    "Este algoritmo es elemental para el entendimiento de las gráficas, y de hecho es un buen precursor para entender el algoritmo de Prim del árbol generador de peso mínimo y el algoritmo de Dijkstra del camino más corto de un solo origen. Dada una gráfica $G=(V,E)$ y un vértice inicial $s$, el algoritmo explora sistemáticamente las aristas de $G$ para encontrar todos los vértices alcanzables por $s$."
   ]
  },
  {
   "cell_type": "markdown",
   "id": "478c3f53-911f-4e8f-ad45-7449f675c7a6",
   "metadata": {},
   "source": [
    "Para este algoritmo, a cada vértice se le añaden tres características:\n",
    "- $v.color$: puede ser blanco, gris o negro, e indica el estado del vértice que puede ser desconocido, por explorar o explorado, respectivamente.\n",
    "- $v.d$: la distancia del vértice de origen $s$ al vértice $v$.\n",
    "- $v.\\pi$: el predecesor de $v$, es decir, el vértice que estaba siendo explorado cuando fue alcanzado $v$.\n",
    "\n",
    "Primero se presenta el algoritmo y luego damos una breve explicación de su funcionamiento."
   ]
  },
  {
   "attachments": {},
   "cell_type": "markdown",
   "id": "a3367aac-f410-43de-8add-809372e17842",
   "metadata": {},
   "source": [
    "#### ***BFS(G,s)***\n",
    "1. **for each** vértice $u \\in G.V-\\{s\\}$\n",
    "2. $\\hspace{0.5cm}u.color = BLANCO$\n",
    "3. $\\hspace{0.5cm}u.d = \\infty$\n",
    "4. $\\hspace{0.5cm}u.\\pi = NIL$\n",
    "5. $s.color = GRIS$\n",
    "6. $s.d = 0$\n",
    "7. $s.\\pi= NIL$\n",
    "8. $Q = \\emptyset$\n",
    "9. $ENQUEUE(Q,s)$\n",
    "10. **while** $Q \\not= \\emptyset$\n",
    "11. $\\hspace{0.5cm}u = DEQUEUE(Q)$\n",
    "12. $\\hspace{0.5cm}$ **for each** vértice $v \\in G.Adj[u]$\n",
    "13. $\\hspace{1cm}$ **if** $v.color = BLANCO$\n",
    "14. $\\hspace{1.5cm}v.color = GRIS$\n",
    "15. $\\hspace{1.5cm}v.d = u.d + 1$\n",
    "16. $\\hspace{1.5cm}v.\\pi = u$\n",
    "17. $\\hspace{1.5cm}ENQUEUE(Q,v)$\n",
    "18. $\\hspace{0.5cm}u.color = NEGRO$"
   ]
  },
  {
   "cell_type": "markdown",
   "id": "455e46fd-0900-4479-97fc-2fa9217eb9b6",
   "metadata": {},
   "source": [
    "Primero inicializamos las propiedades mencionadas en cada uno de los vértices. Luego, para la exploración, usamos una fila $Q$ (First-In, First-Out) en la que guardamos los vértices que han sido alcanzados pero no explorados, empezando por el vértice inicial $s$. Sobre el número de vértices en esta situación, o sea, los grises, es sobre el que avanza el ciclo **while**. Dentro de éste, primero tomamos un vértice y lo sacamos de la fila, nos fijamos en su lista de vecinos y si es que hay alguno de color blanco, le cambiamos el color a gris y le asignamos una distancia de $s$ y un predecesor $\\pi$. Por esto es que se llama *breadth-first*, pues recorre a lo *ancho* de un vértice fijándose en todos sus vecinos antes de avanzar al siguiente."
   ]
  },
  {
   "cell_type": "markdown",
   "id": "fd725f76-ad70-4cd6-b806-a807ea7e7167",
   "metadata": {},
   "source": [
    "\n",
    "Por la forma del algoritmo, es fácil ver que las distancias computadas son las menores posibles. Además, como cada vértice es enlistado solamente una vez, tiene a su vez un sólo predecesor. La forma del árbol puede variar según el orden en que los vértices son visitados, pero las distancias se conservan. Para calcular su tiempo, primero vemos que la asignación toma $O(V)$, mientras que los procesos de colas son $O(1)$. El ciclo while va a recorrer a lo mucho a todos los vértices, es decir, es de tiempo $O(V)$ por sí mismo. Luego, el recorrido por las aristas (que es el ciclo **for each**) nos toma, en conjunto con el ciclo while, a lo mucho dos veces $E$, que es el tamaño de la gráfica, lo que significa que es de tiempo $O(E)$. El tiempo total, entonces, es de $O(V+E)$."
   ]
  },
  {
   "cell_type": "markdown",
   "id": "4dd05b83-9f79-48c0-9aed-64c20d4117af",
   "metadata": {},
   "source": [
    "Como ya habíamos comentado, el algoritmo se considera una base para Dijkstra y Prim, y es que ésta es una implementación para gráficas sin pesos. No es muy difícil notar que los vértices con las propiedades añadidas te ayudan a construir dichas soluciones, y sólo incluiremos en particular la impresión del camino más corto."
   ]
  },
  {
   "cell_type": "markdown",
   "id": "26fcb077-850a-4e2a-8264-3f806cce50e3",
   "metadata": {},
   "source": [
    "<img src=\"BFS-Cormen.png\" alt=\"Ejemplo de BFS en el Cormen\">"
   ]
  },
  {
   "cell_type": "markdown",
   "id": "0e0ee771-22b8-47b5-be1d-f5d7f6ccd8c5",
   "metadata": {},
   "source": [
    "*Ejemplo del proceso hecho en **BFS***"
   ]
  },
  {
   "cell_type": "markdown",
   "id": "9134f20a-da94-40b7-8d4f-85e3461e0fcb",
   "metadata": {},
   "source": [
    "#### PRINT-PATH($G,s,v$)\n",
    "1. **if** $v==s$\n",
    "2. $\\hspace{0.5cm}$*print* $s$\n",
    "3. **elseif** $v.\\pi == NIL$\n",
    "4. $\\hspace{0.5cm}$*print* \"No se encontró camino de \" $s$ \" a \" $v$\n",
    "5. **else**\n",
    "6. $\\hspace{0.5cm}$PRINT-PATH($G,s,v.\\pi$)\n",
    "7. $\\hspace{0.5cm}$*print* $v$"
   ]
  },
  {
   "cell_type": "markdown",
   "id": "1063ef67-4624-4b92-a1ca-c3b9c9ec2db0",
   "metadata": {},
   "source": [
    "Este algoritmo recursivo imprime desde el vértice $s$ y los sucesores hasta llegar al vértice $v$, y no es difícil ver que es de tiempo $O(d)$ con $d$ siendo la distancia entre $s$ y $v$."
   ]
  },
  {
   "cell_type": "markdown",
   "id": "a848c82c-073f-4aed-9813-c504aa4770d2",
   "metadata": {},
   "source": [
    "### Depth First Search"
   ]
  },
  {
   "cell_type": "markdown",
   "id": "0a27e38d-fcd4-47aa-8d71-dd8fc960e9d1",
   "metadata": {},
   "source": [
    "Este algoritmo busca \"a profundidad\", es decir, dado un vértice inicial, se fija en los vecinos y si alguno de ellos tiene aristas sin explorar, lo toma como el punto de partida para repetir la búsqueda. Una vez que en el vértice que se encuentra ya no hay aristas por explorar, retrocede al vértice anterior y explora el siguiente vértice vecino aún por explorar. Este proceso se repite de forma recursiva hasta haber explorado todos los vértices."
   ]
  },
  {
   "cell_type": "markdown",
   "id": "3f03e996-9773-4d67-9ca3-5e2528389660",
   "metadata": {},
   "source": [
    "Este proceso también usa colores para indicar el estado de un vértice, así como el predecesor. La diferencia es que, en lugar de generar un árbol con la subgráfica de predecesores, este método forma un bosque, pues puede partir de diferentes fuentes. Este último detalle garantiza, entonces, que la búsqueda realizada recorra realmente todos los vértices siempre, en comparación con Breadth First que requiere que sea una gráfica conexa para lograr el mismo resultado. Al bosque generado se le conoce como *depth first forest*."
   ]
  },
  {
   "cell_type": "markdown",
   "id": "74dcc12f-266b-447b-aa37-e3dae0bbdd7d",
   "metadata": {},
   "source": [
    "Otra característica de este algoritmo es que también puede generar *timestamps* o marcas de tiempo que refieren al momento en que primero se descubre al vértice (se le colorea de gris) y el momento en que ya ha sido explorado en su totalidad (se le pinta de color negro). Estos tiempos brindan información importante respecto a la estructura de la gráfica y también pueden ayudar a explicar el comportamiento del algoritmo. Estas marcas temporales van de $1$ a $2|V|$, pues se realizan 2 marcas por cada vértice en la gráfica. Además, para cualquier vértice $u$ se cumple que $u.d < u.f$, siendo $u.d$ el tiempo en que es descubierto el vértice y $u.f$ el tiempo en que se ha explorado completamente. A su vez se puede notar que antes del tiempo $u.d$ el vértice $u$ es de color blanco, de color gris entre los tiempos $u.d$ y $u.f$, y negro el resto del tiempo. "
   ]
  },
  {
   "cell_type": "markdown",
   "id": "b023d2e2-c3dc-4a9b-9216-7f431f546422",
   "metadata": {
    "jp-MarkdownHeadingCollapsed": true
   },
   "source": [
    "#### DFS($G$)\n",
    "1. **for each** vértice $u \\in G.V$\n",
    "2. $\\hspace{0.5cm} u.color = WHITE$\n",
    "3. $\\hspace{0.5cm} u.\\pi = NIL$\n",
    "4. time = 0\n",
    "5. **for each** vértice $u \\in G.V$\n",
    "6. $\\hspace{0.5cm}$ **if** $v.color == WHITE$\n",
    "7. $\\hspace{1cm}DFS-VISIT(G,u$)"
   ]
  },
  {
   "cell_type": "markdown",
   "id": "23879701-daf8-4d76-974c-ff5cd8cc25e8",
   "metadata": {},
   "source": [
    "#### DFS-VISIT ($G,u)$\n",
    "1. $time = time + 1$\n",
    "2. $u.d = time$\n",
    "3. $u.color = GRAY$\n",
    "4. **for each** vértice $v \\in G.Adj[u]$\n",
    "5. $\\hspace{0.5cm}$ **if** $v.color == WHITE$\n",
    "6. $\\hspace{1cm} v.\\pi = u$\n",
    "7. $\\hspace{1cm} DFS-VISIT(G,v)$\n",
    "8. $time = time + 1$\n",
    "9. $u.f = time$\n",
    "10. $u.color = BLACK$"
   ]
  },
  {
   "cell_type": "markdown",
   "id": "94e05fc5-1371-411d-a505-30d0b9219497",
   "metadata": {},
   "source": [
    "El método funciona de la siguiente forma. En $DFS$ las primeras líneas inicializan los valores de los vértices, mientras que de la 5 a la 7 se hace un recorrido por cada vértice y, si es blanco, se llama al proceso $DFS-VISIT$. Este segundo proceso primero aumenta el tiempo y se lo asigna al vértice como tiempo inicial, así como el color gris. Se hace un recorrido por cada arista del vértice y si alguno de los vecinos es de color blanco, se vuelve a llamar al proceso con el segundo parámetro siendo ese nuevo vértice. Finalmente se le asigna un tiempo final al vértice de la función y se le colorea negro."
   ]
  },
  {
   "cell_type": "markdown",
   "id": "efe1da0f-ce35-46b4-9c65-9ba148045274",
   "metadata": {},
   "source": [
    "El árbol o bosque resultante varía según el orden en que los vértices son recorridos en $DFS$, así como el orden en que son recorridos los vecinos en $DFS-VISIT$. Este detalle no suele afectar mucho en la práctica, pues la mayoría de las veces que se usa la búsqueda a profundidad cualquiera de los bosques generados es útil. En cuanto al tiempo de ejecución, de forma similar a Breadth First Search, los ciclos anidados hacen $\\Theta(E)$ operaciones pues recorren cada arista, y con la inicialización tenemos un tiempo de ejecución de $\\Theta(V+E)$."
   ]
  },
  {
   "cell_type": "markdown",
   "id": "df8b7a11-ff57-4fee-90b4-a017ca7ef345",
   "metadata": {},
   "source": [
    "<img src=\"DFS-Cormen.png\" alt=\"Ejemplo de DFS en Cormen\">"
   ]
  },
  {
   "cell_type": "markdown",
   "id": "8dc50e14-d084-45fc-a0ca-010d87b753ca",
   "metadata": {},
   "source": [
    "*Ejemplo del proceso hecho en **DFS***"
   ]
  }
 ],
 "metadata": {
  "kernelspec": {
   "display_name": "Julia 1.11.1",
   "language": "julia",
   "name": "julia-1.11"
  },
  "language_info": {
   "file_extension": ".jl",
   "mimetype": "application/julia",
   "name": "julia",
   "version": "1.11.1"
  }
 },
 "nbformat": 4,
 "nbformat_minor": 5
}
