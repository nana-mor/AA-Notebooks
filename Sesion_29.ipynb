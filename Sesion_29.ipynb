{
 "cells": [
  {
   "cell_type": "markdown",
   "id": "24c2f7ef",
   "metadata": {},
   "source": [
    "# Sesión 29"
   ]
  },
  {
   "cell_type": "markdown",
   "id": "ceee919b",
   "metadata": {},
   "source": [
    "En está sesión e explica el algortimo de Floyd-Warshall.\n"
   ]
  },
  {
   "cell_type": "markdown",
   "id": "2853182b",
   "metadata": {},
   "source": [
    "Este algortimo considera los vertices intermedios del camino más corto.\n",
    "Dado un camino $p = \\{v_1,v_2,...,v_l\\}$, un vértice intermedio es cualquier vértice en el conjunto $\\{v_2,...,v_{l-1}\\}$"
   ]
  },
  {
   "cell_type": "markdown",
   "id": "78320071",
   "metadata": {},
   "source": [
    "### Solución recursiva\n",
    "\n"
   ]
  },
  {
   "cell_type": "markdown",
   "id": "50be2844",
   "metadata": {},
   "source": [
    "Definimos:\n",
    " - $ d_{ij}^{(k)}$: la distancia mínima entre el nodo $ i $ y el nodo $ j $, considerando solo los nodos $ \\{1, 2, \\dots, k\\} $ como intermediarios.\n"
   ]
  },
  {
   "cell_type": "markdown",
   "id": "30fdea98",
   "metadata": {},
   "source": [
    "El algoritmo se basa en la siguiente relación de recurrencia:"
   ]
  },
  {
   "cell_type": "markdown",
   "id": "c9b6d35e",
   "metadata": {},
   "source": [
    "$$\n",
    "\\mathrm{d}_{ij}^{(k)} = \\begin{cases}\n",
    "       w(i, j) & \\text{si } k = 0, \\\\\n",
    "       \\min\\left(d_{ij}^{(k-1)}, d_{ik}^{(k-1)} + d_{kj}^{(k-1)}\\right) & \\text{si } k \\geq 1\n",
    "\\end{cases} \n",
    "$$"
   ]
  },
  {
   "cell_type": "markdown",
   "id": "c153fff3",
   "metadata": {},
   "source": [
    "### Pseudocódigo\n",
    " ```\n",
    " Floyd-Warshall(W, n)\n",
    " 1. D^(0) = W\n",
    " 2. for k = 1 to n:\n",
    " 3.     let D^(k) = (dij^(k)) be a new n x n matrix\n",
    " 4.     for i = 1 to n:\n",
    " 5.         for j = 1 to n:\n",
    " 6.             d[i][j] = min(d[i][j], d[i][k] + d[k][j])\n",
    " 7. return D^(n)\n",
    " \n",
    " ```\n"
   ]
  },
  {
   "cell_type": "markdown",
   "id": "1b67f074",
   "metadata": {},
   "source": [
    "El tiempo de ejecución del algoritmo de Floyd- Warshall esta determinado por el número de vertices v del grafo, con tres ciclos anidados, su tiempo de complejidad es de $\\theta(v^3)$"
   ]
  },
  {
   "cell_type": "markdown",
   "id": "08672bea",
   "metadata": {},
   "source": [
    "### Implementación"
   ]
  },
  {
   "cell_type": "code",
   "execution_count": 6,
   "id": "a125a594",
   "metadata": {},
   "outputs": [
    {
     "data": {
      "text/plain": [
       "floyd_warshall (generic function with 1 method)"
      ]
     },
     "execution_count": 6,
     "metadata": {},
     "output_type": "execute_result"
    }
   ],
   "source": [
    "function floyd_warshall(W::Matrix{Float64})\n",
    "    \n",
    "    n = size(W, 1)  \n",
    "    D = copy(W)     \n",
    "\n",
    "    \n",
    "    for k in 1:n\n",
    "        println(\"\\nIteración k = $k:\")\n",
    "        for i in 1:n\n",
    "            for j in 1:n\n",
    "                \n",
    "                D[i, j] = min(D[i, j], D[i, k] + D[k, j])\n",
    "            end\n",
    "        end\n",
    "        println(\"Matriz D^($k):\")\n",
    "        display(D)\n",
    "    end\n",
    "\n",
    "    return D \n",
    "end\n",
    "\n",
    "\n"
   ]
  },
  {
   "cell_type": "code",
   "execution_count": 7,
   "id": "6251b4b7",
   "metadata": {},
   "outputs": [
    {
     "name": "stdout",
     "output_type": "stream",
     "text": [
      "Matriz de adyacencia inicial:\n"
     ]
    },
    {
     "data": {
      "text/plain": [
       "5×5 Matrix{Float64}:\n",
       "  0.0   3.0   8.0  Inf   -4.0\n",
       " Inf    0.0  Inf    1.0   7.0\n",
       " Inf    4.0   0.0  Inf   Inf\n",
       "  2.0  Inf   -5.0   0.0  Inf\n",
       " Inf   Inf   Inf    6.0   0.0"
      ]
     },
     "metadata": {},
     "output_type": "display_data"
    },
    {
     "name": "stdout",
     "output_type": "stream",
     "text": [
      "\n",
      "Iteración k = 1:\n",
      "Matriz D^(1):\n"
     ]
    },
    {
     "data": {
      "text/plain": [
       "5×5 Matrix{Float64}:\n",
       "  0.0   3.0   8.0  Inf   -4.0\n",
       " Inf    0.0  Inf    1.0   7.0\n",
       " Inf    4.0   0.0  Inf   Inf\n",
       "  2.0   5.0  -5.0   0.0  -2.0\n",
       " Inf   Inf   Inf    6.0   0.0"
      ]
     },
     "metadata": {},
     "output_type": "display_data"
    },
    {
     "name": "stdout",
     "output_type": "stream",
     "text": [
      "\n",
      "Iteración k = 2:\n",
      "Matriz D^(2):\n"
     ]
    },
    {
     "data": {
      "text/plain": [
       "5×5 Matrix{Float64}:\n",
       "  0.0   3.0   8.0  4.0  -4.0\n",
       " Inf    0.0  Inf   1.0   7.0\n",
       " Inf    4.0   0.0  5.0  11.0\n",
       "  2.0   5.0  -5.0  0.0  -2.0\n",
       " Inf   Inf   Inf   6.0   0.0"
      ]
     },
     "metadata": {},
     "output_type": "display_data"
    },
    {
     "name": "stdout",
     "output_type": "stream",
     "text": [
      "\n",
      "Iteración k = 3:\n",
      "Matriz D^(3):\n"
     ]
    },
    {
     "data": {
      "text/plain": [
       "5×5 Matrix{Float64}:\n",
       "  0.0   3.0   8.0  4.0  -4.0\n",
       " Inf    0.0  Inf   1.0   7.0\n",
       " Inf    4.0   0.0  5.0  11.0\n",
       "  2.0  -1.0  -5.0  0.0  -2.0\n",
       " Inf   Inf   Inf   6.0   0.0"
      ]
     },
     "metadata": {},
     "output_type": "display_data"
    },
    {
     "name": "stdout",
     "output_type": "stream",
     "text": [
      "\n",
      "Iteración k = 4:\n",
      "Matriz D^(4):\n"
     ]
    },
    {
     "data": {
      "text/plain": [
       "5×5 Matrix{Float64}:\n",
       " 0.0   3.0  -1.0  4.0  -4.0\n",
       " 3.0   0.0  -4.0  1.0  -1.0\n",
       " 7.0   4.0   0.0  5.0   3.0\n",
       " 2.0  -1.0  -5.0  0.0  -2.0\n",
       " 8.0   5.0   1.0  6.0   0.0"
      ]
     },
     "metadata": {},
     "output_type": "display_data"
    },
    {
     "name": "stdout",
     "output_type": "stream",
     "text": [
      "\n",
      "Iteración k = 5:\n",
      "Matriz D^(5):\n"
     ]
    },
    {
     "data": {
      "text/plain": [
       "5×5 Matrix{Float64}:\n",
       " 0.0   1.0  -3.0  2.0  -4.0\n",
       " 3.0   0.0  -4.0  1.0  -1.0\n",
       " 7.0   4.0   0.0  5.0   3.0\n",
       " 2.0  -1.0  -5.0  0.0  -2.0\n",
       " 8.0   5.0   1.0  6.0   0.0"
      ]
     },
     "metadata": {},
     "output_type": "display_data"
    },
    {
     "name": "stdout",
     "output_type": "stream",
     "text": [
      "\n",
      "Matriz de distancias más cortas:\n"
     ]
    },
    {
     "data": {
      "text/plain": [
       "5×5 Matrix{Float64}:\n",
       " 0.0   1.0  -3.0  2.0  -4.0\n",
       " 3.0   0.0  -4.0  1.0  -1.0\n",
       " 7.0   4.0   0.0  5.0   3.0\n",
       " 2.0  -1.0  -5.0  0.0  -2.0\n",
       " 8.0   5.0   1.0  6.0   0.0"
      ]
     },
     "metadata": {},
     "output_type": "display_data"
    }
   ],
   "source": [
    "#### Ejemplo \n",
    "\n",
    "W = [\n",
    "    0.0   3.0   8.0   Inf  -4.0;\n",
    "    Inf   0.0   Inf   1.0  7.0;\n",
    "    Inf   4.0   0.0   Inf  Inf;\n",
    "    2.0   Inf   -5.0  0.0  Inf;\n",
    "    Inf   Inf   Inf   6.0  0.0\n",
    "]\n",
    "\n",
    "println(\"Matriz de adyacencia inicial:\")\n",
    "display(W)\n",
    "\n",
    "\n",
    "distances = floyd_warshall(W)\n",
    "\n",
    "println(\"\\nMatriz de distancias más cortas:\")\n",
    "display(distances)"
   ]
  },
  {
   "cell_type": "markdown",
   "id": "cd00ebe8",
   "metadata": {},
   "source": [
    "### Implementación de Floyd_Warshall con la matriz de predecesores"
   ]
  },
  {
   "cell_type": "code",
   "execution_count": 9,
   "id": "4b687956",
   "metadata": {},
   "outputs": [
    {
     "data": {
      "text/plain": [
       "floyd_warshall_with_predecessors (generic function with 1 method)"
      ]
     },
     "execution_count": 9,
     "metadata": {},
     "output_type": "execute_result"
    }
   ],
   "source": [
    "function floyd_warshall_with_predecessors(W::Matrix{Float64})\n",
    "\n",
    "    n = size(W, 1)  \n",
    "    D = copy(W)    \n",
    "    Pi = zeros(Int, n, n)  \n",
    "\n",
    "    for i in 1:n\n",
    "        for j in 1:n\n",
    "            if i != j && W[i, j] != Inf\n",
    "                Pi[i, j] = i \n",
    "            end\n",
    "        end\n",
    "    end\n",
    "\n",
    "    println(\"Matriz inicial D^(0) y Pi:\")\n",
    "    display(D)\n",
    "    display(Pi)\n",
    "\n",
    "    \n",
    "    for k in 1:n\n",
    "        println(\"\\nIteración k = $k:\")\n",
    "        for i in 1:n\n",
    "            for j in 1:n\n",
    "                \n",
    "                if D[i, j] > D[i, k] + D[k, j]\n",
    "                    D[i, j] = D[i, k] + D[k, j]  \n",
    "                    Pi[i, j] = Pi[k, j] \n",
    "                end\n",
    "            end\n",
    "        end\n",
    "\n",
    "        \n",
    "        println(\"Matriz D^($k):\")\n",
    "        display(D)\n",
    "        println(\"Matriz Pi^($k):\")\n",
    "        display(Pi)\n",
    "    end\n",
    "\n",
    "    return D, Pi \n",
    "end\n",
    "\n"
   ]
  },
  {
   "cell_type": "markdown",
   "id": "e6a8db25",
   "metadata": {},
   "source": []
  },
  {
   "cell_type": "code",
   "execution_count": 8,
   "id": "73f8e2a8",
   "metadata": {},
   "outputs": [
    {
     "name": "stdout",
     "output_type": "stream",
     "text": [
      "Matriz de adyacencia inicial:\n"
     ]
    },
    {
     "data": {
      "text/plain": [
       "5×5 Matrix{Float64}:\n",
       "  0.0   3.0   8.0  Inf   -4.0\n",
       " Inf    0.0  Inf    1.0   7.0\n",
       " Inf    4.0   0.0  Inf   Inf\n",
       "  2.0  Inf   -5.0   0.0  Inf\n",
       " Inf   Inf   Inf    6.0   0.0"
      ]
     },
     "metadata": {},
     "output_type": "display_data"
    },
    {
     "name": "stdout",
     "output_type": "stream",
     "text": [
      "Matriz inicial D^(0) y Pi:\n"
     ]
    },
    {
     "data": {
      "text/plain": [
       "5×5 Matrix{Float64}:\n",
       "  0.0   3.0   8.0  Inf   -4.0\n",
       " Inf    0.0  Inf    1.0   7.0\n",
       " Inf    4.0   0.0  Inf   Inf\n",
       "  2.0  Inf   -5.0   0.0  Inf\n",
       " Inf   Inf   Inf    6.0   0.0"
      ]
     },
     "metadata": {},
     "output_type": "display_data"
    },
    {
     "data": {
      "text/plain": [
       "5×5 Matrix{Int64}:\n",
       " 0  1  1  0  1\n",
       " 0  0  0  2  2\n",
       " 0  3  0  0  0\n",
       " 4  0  4  0  0\n",
       " 0  0  0  5  0"
      ]
     },
     "metadata": {},
     "output_type": "display_data"
    },
    {
     "name": "stdout",
     "output_type": "stream",
     "text": [
      "\n",
      "Iteración k = 1:\n",
      "Matriz D^(1):\n"
     ]
    },
    {
     "data": {
      "text/plain": [
       "5×5 Matrix{Float64}:\n",
       "  0.0   3.0   8.0  Inf   -4.0\n",
       " Inf    0.0  Inf    1.0   7.0\n",
       " Inf    4.0   0.0  Inf   Inf\n",
       "  2.0   5.0  -5.0   0.0  -2.0\n",
       " Inf   Inf   Inf    6.0   0.0"
      ]
     },
     "metadata": {},
     "output_type": "display_data"
    },
    {
     "name": "stdout",
     "output_type": "stream",
     "text": [
      "Matriz Pi^(1):\n"
     ]
    },
    {
     "data": {
      "text/plain": [
       "5×5 Matrix{Int64}:\n",
       " 0  1  1  0  1\n",
       " 0  0  0  2  2\n",
       " 0  3  0  0  0\n",
       " 4  1  4  0  1\n",
       " 0  0  0  5  0"
      ]
     },
     "metadata": {},
     "output_type": "display_data"
    },
    {
     "name": "stdout",
     "output_type": "stream",
     "text": [
      "\n",
      "Iteración k = 2:\n",
      "Matriz D^(2):\n"
     ]
    },
    {
     "data": {
      "text/plain": [
       "5×5 Matrix{Float64}:\n",
       "  0.0   3.0   8.0  4.0  -4.0\n",
       " Inf    0.0  Inf   1.0   7.0\n",
       " Inf    4.0   0.0  5.0  11.0\n",
       "  2.0   5.0  -5.0  0.0  -2.0\n",
       " Inf   Inf   Inf   6.0   0.0"
      ]
     },
     "metadata": {},
     "output_type": "display_data"
    },
    {
     "name": "stdout",
     "output_type": "stream",
     "text": [
      "Matriz Pi^(2):\n"
     ]
    },
    {
     "data": {
      "text/plain": [
       "5×5 Matrix{Int64}:\n",
       " 0  1  1  2  1\n",
       " 0  0  0  2  2\n",
       " 0  3  0  2  2\n",
       " 4  1  4  0  1\n",
       " 0  0  0  5  0"
      ]
     },
     "metadata": {},
     "output_type": "display_data"
    },
    {
     "name": "stdout",
     "output_type": "stream",
     "text": [
      "\n",
      "Iteración k = 3:\n",
      "Matriz D^(3):\n"
     ]
    },
    {
     "data": {
      "text/plain": [
       "5×5 Matrix{Float64}:\n",
       "  0.0   3.0   8.0  4.0  -4.0\n",
       " Inf    0.0  Inf   1.0   7.0\n",
       " Inf    4.0   0.0  5.0  11.0\n",
       "  2.0  -1.0  -5.0  0.0  -2.0\n",
       " Inf   Inf   Inf   6.0   0.0"
      ]
     },
     "metadata": {},
     "output_type": "display_data"
    },
    {
     "name": "stdout",
     "output_type": "stream",
     "text": [
      "Matriz Pi^(3):\n"
     ]
    },
    {
     "data": {
      "text/plain": [
       "5×5 Matrix{Int64}:\n",
       " 0  1  1  2  1\n",
       " 0  0  0  2  2\n",
       " 0  3  0  2  2\n",
       " 4  3  4  0  1\n",
       " 0  0  0  5  0"
      ]
     },
     "metadata": {},
     "output_type": "display_data"
    },
    {
     "name": "stdout",
     "output_type": "stream",
     "text": [
      "\n",
      "Iteración k = 4:\n",
      "Matriz D^(4):\n"
     ]
    },
    {
     "data": {
      "text/plain": [
       "5×5 Matrix{Float64}:\n",
       " 0.0   3.0  -1.0  4.0  -4.0\n",
       " 3.0   0.0  -4.0  1.0  -1.0\n",
       " 7.0   4.0   0.0  5.0   3.0\n",
       " 2.0  -1.0  -5.0  0.0  -2.0\n",
       " 8.0   5.0   1.0  6.0   0.0"
      ]
     },
     "metadata": {},
     "output_type": "display_data"
    },
    {
     "name": "stdout",
     "output_type": "stream",
     "text": [
      "Matriz Pi^(4):\n"
     ]
    },
    {
     "data": {
      "text/plain": [
       "5×5 Matrix{Int64}:\n",
       " 0  1  4  2  1\n",
       " 4  0  4  2  1\n",
       " 4  3  0  2  1\n",
       " 4  3  4  0  1\n",
       " 4  3  4  5  0"
      ]
     },
     "metadata": {},
     "output_type": "display_data"
    },
    {
     "name": "stdout",
     "output_type": "stream",
     "text": [
      "\n",
      "Iteración k = 5:\n",
      "Matriz D^(5):\n"
     ]
    },
    {
     "data": {
      "text/plain": [
       "5×5 Matrix{Float64}:\n",
       " 0.0   1.0  -3.0  2.0  -4.0\n",
       " 3.0   0.0  -4.0  1.0  -1.0\n",
       " 7.0   4.0   0.0  5.0   3.0\n",
       " 2.0  -1.0  -5.0  0.0  -2.0\n",
       " 8.0   5.0   1.0  6.0   0.0"
      ]
     },
     "metadata": {},
     "output_type": "display_data"
    },
    {
     "name": "stdout",
     "output_type": "stream",
     "text": [
      "Matriz Pi^(5):\n"
     ]
    },
    {
     "data": {
      "text/plain": [
       "5×5 Matrix{Int64}:\n",
       " 0  3  4  5  1\n",
       " 4  0  4  2  1\n",
       " 4  3  0  2  1\n",
       " 4  3  4  0  1\n",
       " 4  3  4  5  0"
      ]
     },
     "metadata": {},
     "output_type": "display_data"
    },
    {
     "name": "stdout",
     "output_type": "stream",
     "text": [
      "\n",
      "Matriz de distancias más cortas:\n"
     ]
    },
    {
     "data": {
      "text/plain": [
       "5×5 Matrix{Float64}:\n",
       " 0.0   1.0  -3.0  2.0  -4.0\n",
       " 3.0   0.0  -4.0  1.0  -1.0\n",
       " 7.0   4.0   0.0  5.0   3.0\n",
       " 2.0  -1.0  -5.0  0.0  -2.0\n",
       " 8.0   5.0   1.0  6.0   0.0"
      ]
     },
     "metadata": {},
     "output_type": "display_data"
    },
    {
     "name": "stdout",
     "output_type": "stream",
     "text": [
      "\n",
      "Matriz final de predecesores:\n"
     ]
    },
    {
     "data": {
      "text/plain": [
       "5×5 Matrix{Int64}:\n",
       " 0  3  4  5  1\n",
       " 4  0  4  2  1\n",
       " 4  3  0  2  1\n",
       " 4  3  4  0  1\n",
       " 4  3  4  5  0"
      ]
     },
     "metadata": {},
     "output_type": "display_data"
    }
   ],
   "source": [
    "\n",
    "# Creamos la matriz de adyacencia inicial\n",
    "W = [\n",
    "    0.0   3.0   8.0   Inf  -4.0;\n",
    "    Inf   0.0   Inf   1.0  7.0;\n",
    "    Inf   4.0   0.0   Inf  Inf;\n",
    "    2.0   Inf   -5.0  0.0  Inf;\n",
    "    Inf   Inf   Inf   6.0  0.0\n",
    "]\n",
    "\n",
    "println(\"Matriz de adyacencia inicial:\")\n",
    "display(W)\n",
    "\n",
    "\n",
    "distances, predecessors = floyd_warshall_with_predecessors(W)\n",
    "\n",
    "println(\"\\nMatriz de distancias más cortas:\")\n",
    "display(distances)\n",
    "\n",
    "println(\"\\nMatriz final de predecesores:\")\n",
    "display(predecessors)\n"
   ]
  }
 ],
 "metadata": {
  "kernelspec": {
   "display_name": "Julia 1.11.1",
   "language": "julia",
   "name": "julia-1.11"
  },
  "language_info": {
   "file_extension": ".jl",
   "mimetype": "application/julia",
   "name": "julia",
   "version": "1.11.1"
  }
 },
 "nbformat": 4,
 "nbformat_minor": 5
}
