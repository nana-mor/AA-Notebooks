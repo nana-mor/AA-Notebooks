{
 "cells": [
  {
   "cell_type": "markdown",
   "id": "64bd8756-f32f-479c-8664-eeb84151a3a6",
   "metadata": {},
   "source": [
    "# Sesión 28\n"
   ]
  },
  {
   "cell_type": "markdown",
   "id": "07c4b94f-d6e6-42db-b70d-86dcd4338c6a",
   "metadata": {},
   "source": [
    "**Colaboradores**\n",
    "\n",
    "- César Ricardo Segura Alejo\n",
    "- Aldo\n",
    "- Luis Daniel Rodriguez Correa"
   ]
  },
  {
   "cell_type": "markdown",
   "id": "19059b0b-c05b-4c06-85d4-c0e0df77b763",
   "metadata": {},
   "source": [
    "En esta sección, presentamos una teoría fundamental relacionada con los algoritmos de búsqueda de caminos mínimos. Esta teoría abarca diversos escenarios en los que los algoritmos eficientemente encuentran soluciones óptimas en grafos ponderados, y se enfoca en métodos como **Bellman-Ford**, **DAG Shortest Paths** y **Dijkstra**. \n"
   ]
  },
  {
   "cell_type": "markdown",
   "id": "5eec45fa-c672-48bb-8e56-e98c0dd22012",
   "metadata": {},
   "source": [
    "### Índice\n",
    "---\n",
    "\n",
    "1. [Matroids](#Matroids)\n",
    "   1. [Ejemplos de Matroides](#EjemplosM)\n",
    "2. [Matroides en Algoritmos Greedy](#MatroidsGr)\n",
    "   1. [Algoritmo Greedy General para Matroides](#General)\n",
    "   2. [Problema: Árbol Generador Mínimo](#Minimo)\n",
    "   3. [Algoritmo de Kruskal (Greedy)](#Kruskal)\n",
    "4. [Implementacion](#implementacion)\n",
    "5. [Problema de la mochila](#mochila)\n",
    "6. [Implementacion](#implementacion2)\n",
    "7. [Referencias](#referencias)\n",
    "---"
   ]
  },
  {
   "cell_type": "markdown",
   "id": "35f6ab8f-39d6-4035-8b50-15742d45595c",
   "metadata": {},
   "source": [
    "# TheBellman-Fordalgorithm\n"
   ]
  },
  {
   "cell_type": "markdown",
   "id": "b04dbffc-7f93-4533-960d-3044884784d5",
   "metadata": {},
   "source": [
    "# Introducción al Algoritmo de Bellman-Ford\n",
    "\n",
    "El algoritmo de **Bellman-Ford** es una herramienta fundamental en la teoría de grafos y la informática para resolver el problema de las rutas más cortas desde un único origen (*single-source shortest-paths*). Diseñado para grafos dirigidos y ponderados, el algoritmo destaca por su capacidad de manejar pesos negativos en las aristas, algo que no es posible con otras técnicas como el algoritmo de Dijkstra.\n",
    "\n",
    "El propósito principal del algoritmo es determinar las rutas más cortas desde un vértice fuente, denominado \\( s \\), hasta todos los demás vértices del grafo. Además, el algoritmo verifica la existencia de ciclos de peso negativo que sean accesibles desde la fuente. Si se detecta un ciclo de este tipo, se concluye que no existe solución válida para el problema de las rutas más cortas, ya que el peso acumulado en dicho ciclo puede disminuir indefinidamente.\n",
    "\n",
    "## Propiedades del Algoritmo\n",
    "\n",
    "1. **Flexibilidad frente a pesos negativos**:\n",
    "   - A diferencia de otros algoritmos, Bellman-Ford puede procesar grafos con pesos negativos en sus aristas.\n",
    "   - Detecta si existe un ciclo de peso negativo accesible desde el vértice fuente.\n",
    "\n",
    "2. **Progresiva relajación de aristas**:\n",
    "   - Se basa en un proceso iterativo de relajación de aristas, ajustando progresivamente las estimaciones de la distancia más corta desde el origen a cada vértice.\n",
    "\n",
    "3. **Complejidad computacional**:\n",
    "   - La complejidad temporal del algoritmo es \\( O(V \\cdot E) \\), donde \\( V \\) es el número de vértices y \\( E \\) el número de aristas.\n",
    "   - Este rendimiento se debe a que el algoritmo realiza \\( |V| - 1 \\) iteraciones sobre todas las aristas, seguidas de una verificación adicional.\n",
    "\n",
    "## Aplicaciones\n",
    "\n",
    "El algoritmo de Bellman-Ford se utiliza ampliamente en diversas áreas, incluyendo:\n",
    "\n",
    "- **Redes de telecomunicaciones**: Para calcular las rutas más económicas.\n",
    "- **Optimización de problemas financieros**: Donde los ciclos negativos pueden representar oportunidades de arbitraje.\n",
    "- **Detección de inconsistencias en sistemas de grafos ponderados**.\n",
    "\n",
    "En este notebook, exploraremos la implementación del algoritmo de Bellman-Ford, analizando paso a paso su funcionamiento, verificando su corrección mediante el *teorema de la relajación de caminos* y discutiendo ejemplos concretos con datos ilustrativos.\n",
    "\n"
   ]
  },
  {
   "cell_type": "code",
   "execution_count": null,
   "id": "55ac6328-df47-4a82-8e82-fc41262e9789",
   "metadata": {},
   "outputs": [],
   "source": []
  },
  {
   "cell_type": "code",
   "execution_count": null,
   "id": "a7568a0e-eb47-4365-8f18-b8301ca47df6",
   "metadata": {},
   "outputs": [],
   "source": []
  },
  {
   "cell_type": "code",
   "execution_count": null,
   "id": "3399354e-29ab-49c8-ac1c-2554286b6147",
   "metadata": {},
   "outputs": [],
   "source": []
  },
  {
   "cell_type": "code",
   "execution_count": null,
   "id": "1a62e09d-289b-45af-9201-c2c918c518ed",
   "metadata": {},
   "outputs": [],
   "source": []
  },
  {
   "cell_type": "code",
   "execution_count": null,
   "id": "3a0e4b0b-909c-4b5e-96fa-d61d59d71c7e",
   "metadata": {},
   "outputs": [],
   "source": []
  },
  {
   "cell_type": "code",
   "execution_count": null,
   "id": "b4bcd629-a393-49a9-8de3-c324297a1ef1",
   "metadata": {},
   "outputs": [],
   "source": []
  },
  {
   "cell_type": "code",
   "execution_count": null,
   "id": "0d2f2bc9-4543-403f-abfe-7da74d4959b3",
   "metadata": {},
   "outputs": [],
   "source": []
  },
  {
   "cell_type": "code",
   "execution_count": null,
   "id": "8587a927-e9ce-453b-89c8-d8059efcf2f0",
   "metadata": {},
   "outputs": [],
   "source": []
  },
  {
   "cell_type": "code",
   "execution_count": null,
   "id": "7ceac0be-92ba-4c51-a2bc-17ca90087bb1",
   "metadata": {},
   "outputs": [],
   "source": []
  },
  {
   "cell_type": "code",
   "execution_count": null,
   "id": "ef0e8301-b7f6-4cf0-abcf-db96664ef804",
   "metadata": {},
   "outputs": [],
   "source": []
  },
  {
   "cell_type": "code",
   "execution_count": null,
   "id": "82dd1b7d-a074-412a-80ee-3578b4fe365d",
   "metadata": {},
   "outputs": [],
   "source": []
  }
 ],
 "metadata": {
  "kernelspec": {
   "display_name": "Julia 1.10.4",
   "language": "julia",
   "name": "julia-1.10"
  },
  "language_info": {
   "file_extension": ".jl",
   "mimetype": "application/julia",
   "name": "julia",
   "version": "1.10.4"
  }
 },
 "nbformat": 4,
 "nbformat_minor": 5
}
