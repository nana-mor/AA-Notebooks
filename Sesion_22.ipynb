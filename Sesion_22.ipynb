{
 "cells": [
  {
   "cell_type": "markdown",
   "id": "9a89dcb9-77c8-4111-a8ce-3c0d3126608d",
   "metadata": {},
   "source": [
    "# Sesión 22"
   ]
  },
  {
   "cell_type": "markdown",
   "id": "9a89dcb9-77c8-4111-a8ce-3c0d3126608d",
   "metadata": {},
   "source": [
    "> Diana Laura Luna Mora"
   ]
  },
  {
   "cell_type": "markdown",
   "id": "ba89896f-ca1b-4809-8d60-a4fd09fb8d44",
   "metadata": {},
   "source": [
    "En esta sesiónh se introduce a la programación dinamica.Se revisa el problema de la cadena más larga"
   ]
  },
  {
   "cell_type": "markdown",
   "id": "89f17367-a575-4cf1-b711-af07286cb665",
   "metadata": {},
   "source": [
    "Programación dinámica es un método tabular similar a divide y vencerás, con la diferencia que los problemas no son independientes.En programación dinámica una solución óptima al problema global puede construirse a partir de soluciones óptimas a sus subproblemas.\n"
   ]
  },
  {
   "cell_type": "markdown",
   "id": "017b9ad1-baab-41d2-a229-b69fca0930a4",
   "metadata": {},
   "source": [
    "Ahora veamos el problema de la cadena más larga <br> \n",
    "El problema de la subsecuencia común más larga (Longest Common Subsequence, LCS) consiste en encontrar la subsecuencia más larga que sea común a dos secuencias dadas X e Y. Una subsecuencia es una secuencia que se puede derivar de otra eliminando algunos elementos sin alterar el orden de los elementos restantes. \n",
    "\n"
   ]
  },
  {
   "cell_type": "markdown",
   "id": "8a3793f7-55e1-4a9b-9f0c-dcdcca6db8be",
   "metadata": {},
   "source": [
    "Ejemplo: <br>\n",
    "X = {A,B,C,B,D,A,B} <br>\n",
    "Y = {B,D,C,A,B,A}\n"
   ]
  },
  {
   "cell_type": "markdown",
   "id": "be1b14b3-3343-4431-9eb1-1a5c107a8fbc",
   "metadata": {},
   "source": [
    "1. La secuencia Z = {B,C,A} es una subsecuencia común de X e Y, pero no es la subsecuencia común más larga (LCS), ya que su longitud es 3.\n",
    "2. La La secuencia Z = {B,C,B,A} es una subsecuencia común más larga, con una longitud de 4.\n",
    "3. También Z = {B,D,A,B} tiene longitud 4 y es otra LCS."
   ]
  },
  {
   "cell_type": "markdown",
   "id": "7bfba45a-e51d-410b-ae86-84e522c627dd",
   "metadata": {},
   "source": [
    "Veamos que resolviendo este problema con programación dinamica se resuelve eficientemente "
   ]
  },
  {
   "cell_type": "markdown",
   "id": "324bab42-13af-4472-93d3-53b6efee2268",
   "metadata": {},
   "source": [
    "Primero utilizaremos la propiedad de óptima subestructura significa que una solución óptima para el problema general se puede construir a partir de soluciones óptimas de subproblemas más pequeños. En el caso de LCS:\n",
    "- Los subproblemas naturales corresponden a encontrar la LCS de los prefijos de las dos secuencias de entrada  X e Y\n",
    "- La LCS de X e Y depende de la relación entre los últimos elementos de sus prefijos. Esto permite reducir el problema general al problema de los prefijos más pequeños."
   ]
  },
  {
   "cell_type": "markdown",
   "id": "f8714107-d159-44fe-a9a2-e5a9364d5c5d",
   "metadata": {},
   "source": [
    "### Teorema (Subestructura Optima de una LCS)"
   ]
  },
  {
   "cell_type": "markdown",
   "id": "d11e05ca-d285-49d0-b5df-9377a4000a26",
   "metadata": {},
   "source": [
    "Sean $ X = \\langle x_1, x_2, \\dots, x_m \\rangle $ y $ Y = \\langle y_1, y_2, \\dots, y_n \\rangle $ dos secuencias, y sea $ Z = \\langle z_1, z_2, \\dots, z_k \\rangle $ una **subsecuencia común más larga (LCS)** de $ X $ y $ Y $.\n",
    "\n",
    "1. $Si  x_m = y_n :$\n",
    "   Entonces, el último elemento de la LCS $ z_k $ es igual a $ x_m $ y a $ y_n $:  \n",
    "   $\n",
    "   z_k = x_m = y_n\n",
    "   $\n",
    "  \n",
    "   Además, la subsecuencia $ Z_{k-1} $ (es decir, $ Z $ sin su último elemento) es una LCS de los prefijos $ X_{m-1} $ y $ Y_{n-1} $.  \n",
    "\n",
    "3. $Si  x_m \\neq y_n :$\n",
    "   Si $ z_k \\neq x_m $, entonces $ Z $ es una LCS de $ X_{m-1} $ y $ Y $.  \n",
    "\n",
    "4. $Si  x_m \\neq y_n : $ \n",
    "   Si $ z_k \\neq y_n $, entonces $ Z $ es una LCS de $ X $ y $ Y_{n-1} $.  "
   ]
  },
  {
   "cell_type": "markdown",
   "id": "87eb68a3-7eb4-480d-b45c-01c0a40262e0",
   "metadata": {},
   "source": [
    "### Solución recursiva "
   ]
  },
  {
   "cell_type": "markdown",
   "id": "a0e229ef-4dff-4cae-9ab7-ac94d76cc58e",
   "metadata": {},
   "source": [
    "Dado el prefijo $ X_i $ de $ X $ y $ Y_j $ de $ Y $, la LCS se puede definir como:\n",
    "\n",
    "$$\n",
    "\\mathrm{c}[i][j] = \\begin{cases}\n",
    "       0 & \\text{si }i = 0 \\text{o }j = 0 \\\\\n",
    "       c[i-1,j-1] + 1 & \\text{si }i,j > 0 \\text{y }x_i = y_j \\\\\n",
    "       max(c[i][j-1],c[i-1][j]) & \\text{si }i,j > 0  \\text{y }x_i \\neq y_j.\n",
    "\\end{cases} \n",
    "$$\n"
   ]
  },
  {
   "cell_type": "raw",
   "id": "ec4e2da9-1edf-4030-bc91-462934dc037b",
   "metadata": {},
   "source": [
    "### LCS-LENGTH(X, Y)\n",
    "\n",
    "```plaintext\n",
    "LCS-LENGTH(X, Y)\n",
    "1.  m = X.length\n",
    "2.  n = Y.length\n",
    "3.  Let b[1:m, 1:n] and c[0:m, 0:n] be new tables\n",
    "4.  for i = 1 to m\n",
    "5.      c[i, 0] = 0\n",
    "6.  for j = 0 to n\n",
    "7.      c[0, j] = 0\n",
    "8.  for i = 1 to m\n",
    "9.      for j = 1 to n\n",
    "10.         if x[i] == y[j]\n",
    "11.             c[i, j] = c[i-1, j-1] + 1\n",
    "12.             b[i, j] = \"↖\"\n",
    "13.         else if c[i-1, j] ≥ c[i, j-1]\n",
    "14.             c[i, j] = c[i-1, j]\n",
    "15.             b[i, j] = \"↑\"\n",
    "16.         else\n",
    "17.             c[i, j] = c[i, j-1]\n",
    "18.             b[i, j] = \"←\"\n",
    "19. return c and b\n",
    "\n"
   ]
  },
  {
   "cell_type": "markdown",
   "id": "5621fa58-9af4-453f-8486-e4179ac891c9",
   "metadata": {},
   "source": [
    "Analicemos el tiempo de ejecución, en la lineas 1 y 2 tenemos una ejecución $\\theta(1)$, en la linea 4 y 5 el ciclo se repite m por lo tanto es $\\theta(m)$,en la linea 6 y 7 el ciclo se repite n por lo tanto es $\\theta(n)$, en las lineas  9 a la 19 tenemos ciclos anidados con un tiempo de $\\theta(m·n)$.\n",
    "Como hay m·n combinaciones de i y j, y en cada combinación se realizan operaciones constantes, el tiempo de ejecución total es $\\theta(m·n)$ \n"
   ]
  },
  {
   "cell_type": "markdown",
   "id": "f44817e6-07c3-4b61-81eb-539effaae156",
   "metadata": {},
   "source": [
    "\n",
    "### PRINT-LCS(b, X, i, j)\n",
    "\n",
    "```plaintext\n",
    "PRINT-LCS(b, X, i, j)\n",
    "1.  if i == 0 or j == 0\n",
    "2.      return\n",
    "3.  if b[i, j] == \"↖\"\n",
    "4.      PRINT-LCS(b, X, i - 1, j - 1)\n",
    "5.      print X[i]\n",
    "6.  else if b[i, j] == \"↑\"\n",
    "7.      PRINT-LCS(b, X, i - 1, j)\n",
    "8.  else\n",
    "9.      PRINT-LCS(b, X, i, j - 1)"
   ]
  },
  {
   "cell_type": "markdown",
   "id": "065077d6-9cdb-4f7b-ba70-972c6456b456",
   "metadata": {},
   "source": [
    "El algoritmo visita como máximo $\\theta(m+n)$ celdas en la tabla b, ya que avanza hacia atrás a través de filas y columnas, pero no reexplora celdas."
   ]
  },
  {
   "cell_type": "markdown",
   "id": "31df0227-c194-44e1-abfd-22add6db0c46",
   "metadata": {},
   "source": [
    "### Implementación "
   ]
  },
  {
   "cell_type": "code",
   "execution_count": 23,
   "id": "92273675-8268-4e2e-b08b-0f63a9d32d07",
   "metadata": {},
   "outputs": [
    {
     "data": {
      "text/plain": [
       "lcs_length (generic function with 1 method)"
      ]
     },
     "execution_count": 23,
     "metadata": {},
     "output_type": "execute_result"
    }
   ],
   "source": [
    "function lcs_length(X, Y)\n",
    "    m = length(X)\n",
    "    n = length(Y)\n",
    "\n",
    "    \n",
    "    c = zeros(Int, m + 1, n + 1)  \n",
    "    b = fill(\"\", m + 1, n + 1)   \n",
    "\n",
    "    # Rellenar las tablas\n",
    "    for i in 1:m\n",
    "        for j in 1:n\n",
    "            if X[i] == Y[j]\n",
    "                c[i + 1, j + 1] = c[i, j] + 1\n",
    "                b[i + 1, j + 1] = \"↖\"  \n",
    "            elseif c[i, j + 1] >= c[i + 1, j]\n",
    "                c[i + 1, j + 1] = c[i, j + 1]\n",
    "                b[i + 1, j + 1] = \"↑\"  \n",
    "            else\n",
    "                c[i + 1, j + 1] = c[i + 1, j]\n",
    "                b[i + 1, j + 1] = \"←\"  \n",
    "            end\n",
    "        end\n",
    "    end\n",
    "\n",
    "    return c, b\n",
    "end"
   ]
  },
  {
   "cell_type": "code",
   "execution_count": 24,
   "id": "7b09eed1-64f4-4a4a-9e72-40df0f3f90e0",
   "metadata": {},
   "outputs": [
    {
     "data": {
      "text/plain": [
       "print_lcs (generic function with 1 method)"
      ]
     },
     "execution_count": 24,
     "metadata": {},
     "output_type": "execute_result"
    }
   ],
   "source": [
    "function print_lcs(b, X, i, j)\n",
    "    if i == 0 || j == 0\n",
    "        return \"\"\n",
    "    elseif b[i, j] == \"↖\"\n",
    "        return print_lcs(b, X, i - 1, j - 1) * string(X[i - 1])\n",
    "    elseif b[i, j] == \"↑\"\n",
    "        return print_lcs(b, X, i - 1, j)\n",
    "    else\n",
    "        return print_lcs(b, X, i, j - 1)\n",
    "    end\n",
    "end"
   ]
  },
  {
   "cell_type": "code",
   "execution_count": 25,
   "id": "fc14930d-457a-4007-ac6a-904760a31fec",
   "metadata": {},
   "outputs": [
    {
     "name": "stdout",
     "output_type": "stream",
     "text": [
      "Tabla de costos:\n",
      "[0 0 0 0 0 0 0; 0 0 0 0 1 1 1; 0 1 1 1 1 2 2; 0 1 1 2 2 2 2; 0 1 1 2 2 3 3; 0 1 2 2 2 3 3; 0 1 2 2 3 3 4; 0 1 2 2 3 4 4]\n",
      "\n",
      "Tabla de direcciones:\n",
      "[\"\" \"\" \"\" \"\" \"\" \"\" \"\"; \"\" \"↑\" \"↑\" \"↑\" \"↖\" \"←\" \"↖\"; \"\" \"↖\" \"←\" \"←\" \"↑\" \"↖\" \"←\"; \"\" \"↑\" \"↑\" \"↖\" \"←\" \"↑\" \"↑\"; \"\" \"↖\" \"↑\" \"↑\" \"↑\" \"↖\" \"←\"; \"\" \"↑\" \"↖\" \"↑\" \"↑\" \"↑\" \"↑\"; \"\" \"↑\" \"↑\" \"↑\" \"↖\" \"↑\" \"↖\"; \"\" \"↖\" \"↑\" \"↑\" \"↑\" \"↖\" \"↑\"]\n",
      "\n",
      "LCS:\n",
      "BCBA\n"
     ]
    }
   ],
   "source": [
    "X = ['A', 'B', 'C', 'B', 'D', 'A', 'B']\n",
    "Y = ['B', 'D', 'C', 'A', 'B', 'A']\n",
    "\n",
    "c, b = lcs_length(X, Y)\n",
    "lcs_result = print_lcs(b, X, length(X) + 1, length(Y) + 1)\n",
    "\n",
    "println(\"Tabla de costos:\")\n",
    "println(c)\n",
    "println(\"\\nTabla de direcciones:\")\n",
    "println(b)\n",
    "println(\"\\nLCS:\")\n",
    "println(lcs_result)\n",
    "\n"
   ]
  },
  {
   "cell_type": "code",
   "execution_count": null,
   "id": "9896ed93-2036-42a5-9972-19e0d0ce86c3",
   "metadata": {},
   "outputs": [],
   "source": []
  }
 ],
 "metadata": {
  "kernelspec": {
   "display_name": "Julia 1.11.1",
   "language": "julia",
   "name": "julia-1.11"
  },
  "language_info": {
   "file_extension": ".jl",
   "mimetype": "application/julia",
   "name": "julia",
   "version": "1.11.1"
  }
 },
 "nbformat": 4,
 "nbformat_minor": 5
}
