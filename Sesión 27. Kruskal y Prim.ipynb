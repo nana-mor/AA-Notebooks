{
 "cells": [
  {
   "cell_type": "markdown",
   "metadata": {},
   "source": [
    "# Sesión 27. Árboles de Expansión"
   ]
  },
  {
   "cell_type": "markdown",
   "metadata": {},
   "source": [
    "Para modelas este problema, se requiere de un grafo no dirigido $G = (V,E)$ tal que para arista $(u,v) \\in E$ se le atribuye un peso $w(u,v)$ que es lo que cuesta ir del vértice $u$ al vértice $v$. La meta de este problema es encontrar un grafo acíclico $T\\subset E$ tal que se minimiza el peso total de $T$, i.e. $$ w(T) = \\sum_{(u,v)\\in T}w(u,v)$$ es mínimo."
   ]
  },
  {
   "cell_type": "markdown",
   "metadata": {},
   "source": [
    "De las clases en MAC de Opmitización II o Teoría de Graficas, recordaran que existen 2 algoritmos para solucionar este problema, **Krustal** y **Prim**. Más adelante hablaremos de por qué cada uno corre en $O(E\\ lg\\ V)$.\n",
    "\n",
    "Para que el algoritmo de Prim logre este tiempo debe de usar binary heaps como una cola de prioridad. Una forma de optimzarlo es con **Fibonnachi Heaps** logrando correr en $O(E + V lg V)$ con el único inconveniente de que V tiene que crecer de forma lineal."
   ]
  },
  {
   "cell_type": "markdown",
   "metadata": {},
   "source": [
    "## Kruskal"
   ]
  },
  {
   "cell_type": "markdown",
   "metadata": {},
   "source": [
    "$\\empty$"
   ]
  },
  {
   "cell_type": "markdown",
   "metadata": {},
   "source": [
    ">  $KRUSKAL(G,w)$\n",
    "> 1. A =  $\\empty$\n",
    "> 2. **for each** $v \\in G.V$\n",
    "> 3. &nbsp;&nbsp;&nbsp;&nbsp;$MAKE-SET(v)$\n",
    "> 4. Crear una lista de aristas con peso\n",
    "> 5. Ordenar la lista de aristas en orden ascendente de acuerdo al peso $w$\n",
    "> 6. **for each** arista $(u,v)$ tomada de la lista en orden\n",
    "> 7. &nbsp;&nbsp;&nbsp;&nbsp;**if** $FIND-SET(u) \\neq FIND-SET(v)$\n",
    "> 8. &nbsp;&nbsp;&nbsp;&nbsp;&nbsp;&nbsp;&nbsp;&nbsp;$A = A \\cup \\{(u,v)\\}$\n",
    "> 9. &nbsp;&nbsp;&nbsp;&nbsp;&nbsp;&nbsp;&nbsp;&nbsp;$UNION(u,v)$\n",
    "> 10. **return** $A$\n"
   ]
  }
 ],
 "metadata": {
  "kernelspec": {
   "display_name": "Julia 1.10.5",
   "language": "julia",
   "name": "julia-1.10"
  },
  "language_info": {
   "file_extension": ".jl",
   "mimetype": "application/julia",
   "name": "julia",
   "version": "1.10.5"
  }
 },
 "nbformat": 4,
 "nbformat_minor": 2
}
